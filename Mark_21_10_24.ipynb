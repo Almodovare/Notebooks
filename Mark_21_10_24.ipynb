{
  "nbformat": 4,
  "nbformat_minor": 0,
  "metadata": {
    "colab": {
      "provenance": []
    },
    "kernelspec": {
      "name": "python3",
      "display_name": "Python 3"
    },
    "language_info": {
      "name": "python"
    }
  },
  "cells": [
    {
      "cell_type": "markdown",
      "source": [
        "# Установка библиотек"
      ],
      "metadata": {
        "id": "4-PmWRFQFL_M"
      }
    },
    {
      "cell_type": "code",
      "source": [
        "# numpy\n",
        "# pandas\n",
        "# stats\n",
        "# matplotlib"
      ],
      "metadata": {
        "id": "JPzyILlvGl2R"
      },
      "execution_count": null,
      "outputs": []
    },
    {
      "cell_type": "code",
      "source": [
        "import pandas as pd"
      ],
      "metadata": {
        "id": "N0DvBlUeHozH"
      },
      "execution_count": null,
      "outputs": []
    },
    {
      "cell_type": "markdown",
      "source": [
        "# Загрузка данных"
      ],
      "metadata": {
        "id": "8JihlomUFEt1"
      }
    },
    {
      "cell_type": "code",
      "source": [
        "!git clone https://github.com/Almodovare/Training_Data"
      ],
      "metadata": {
        "id": "zYEzGm4rOGSc"
      },
      "execution_count": null,
      "outputs": []
    },
    {
      "cell_type": "code",
      "source": [
        "df = pd.read_csv('/content/Training_Data/mtcars.csv', index_col = 0)"
      ],
      "metadata": {
        "id": "2hEq6tJoHskv"
      },
      "execution_count": null,
      "outputs": []
    },
    {
      "cell_type": "code",
      "source": [
        "df"
      ],
      "metadata": {
        "id": "D0hrkJ7KPHkF"
      },
      "execution_count": null,
      "outputs": []
    },
    {
      "cell_type": "code",
      "source": [
        "df.head()"
      ],
      "metadata": {
        "id": "P-JP_Iy9O0IT"
      },
      "execution_count": null,
      "outputs": []
    },
    {
      "cell_type": "code",
      "source": [
        "df.tail()"
      ],
      "metadata": {
        "id": "MNX5Hq4bQCKs"
      },
      "execution_count": null,
      "outputs": []
    },
    {
      "cell_type": "code",
      "source": [
        "df.sample()"
      ],
      "metadata": {
        "id": "VuwyBPAJPJhH"
      },
      "execution_count": null,
      "outputs": []
    },
    {
      "cell_type": "code",
      "source": [
        "df.sample(3)"
      ],
      "metadata": {
        "id": "ZrgppGxZPLyf"
      },
      "execution_count": null,
      "outputs": []
    },
    {
      "cell_type": "markdown",
      "source": [
        "# Описание набора данных"
      ],
      "metadata": {
        "id": "n85drX_RFI8c"
      }
    },
    {
      "cell_type": "code",
      "execution_count": null,
      "metadata": {
        "id": "Y1zOH1XmE8ty"
      },
      "outputs": [],
      "source": [
        "# метод .info соотносит максимальное количество записей с количеством записей в каждом столбце"
      ]
    },
    {
      "cell_type": "code",
      "source": [
        "df.info()"
      ],
      "metadata": {
        "id": "LmlHGj37PDIC"
      },
      "execution_count": null,
      "outputs": []
    },
    {
      "cell_type": "code",
      "source": [
        "# shape показывает размерность набора данных"
      ],
      "metadata": {
        "id": "KzWI5ffJPWHM"
      },
      "execution_count": null,
      "outputs": []
    },
    {
      "cell_type": "code",
      "source": [
        "df.shape"
      ],
      "metadata": {
        "id": "wxVKq00HPUxP"
      },
      "execution_count": null,
      "outputs": []
    },
    {
      "cell_type": "code",
      "source": [
        "# метод .columns выводит название всех колонок"
      ],
      "metadata": {
        "id": "0JHyY4djMxjT"
      },
      "execution_count": null,
      "outputs": []
    },
    {
      "cell_type": "code",
      "source": [
        "df.columns"
      ],
      "metadata": {
        "id": "VbcoAO66PEhL"
      },
      "execution_count": null,
      "outputs": []
    },
    {
      "cell_type": "code",
      "source": [
        "# в каждой строке мы видим тип переменной\n",
        "type(S)\n",
        "'''\n",
        "int() - целове число\n",
        "float() - число с плавающей точкой\n",
        "bool() - логический тип (True False)\n",
        "str() - строка"
      ],
      "metadata": {
        "id": "qkQnMCJuNPIM"
      },
      "execution_count": null,
      "outputs": []
    },
    {
      "cell_type": "code",
      "source": [
        "# метод .isna() выдает True или 1, если есть пропуск, метод .sum() суммирует единицы по столбцам"
      ],
      "metadata": {
        "id": "YJnFlpWFMhGz"
      },
      "execution_count": null,
      "outputs": []
    },
    {
      "cell_type": "code",
      "source": [
        "df.isna().sum()"
      ],
      "metadata": {
        "id": "duWVogjlPgSH"
      },
      "execution_count": null,
      "outputs": []
    },
    {
      "cell_type": "code",
      "source": [
        "df.describe()"
      ],
      "metadata": {
        "id": "0lLEZGjBQGwH"
      },
      "execution_count": null,
      "outputs": []
    },
    {
      "cell_type": "code",
      "source": [
        "df.MPG.describe()"
      ],
      "metadata": {
        "id": "Vh5vpCSAQLhn"
      },
      "execution_count": null,
      "outputs": []
    },
    {
      "cell_type": "code",
      "source": [
        "df['MPG'].describe()"
      ],
      "metadata": {
        "id": "YvIBcZUkQPM6"
      },
      "execution_count": null,
      "outputs": []
    },
    {
      "cell_type": "code",
      "source": [
        "df.MPG.unique()"
      ],
      "metadata": {
        "id": "aOkhESLiQZYS"
      },
      "execution_count": null,
      "outputs": []
    },
    {
      "cell_type": "code",
      "source": [
        "df.MPG.nunique()"
      ],
      "metadata": {
        "id": "znNbMK1tQxki"
      },
      "execution_count": null,
      "outputs": []
    },
    {
      "cell_type": "code",
      "source": [
        "df.MPG.value_counts()"
      ],
      "metadata": {
        "id": "q0eCXQUEQjPO"
      },
      "execution_count": null,
      "outputs": []
    },
    {
      "cell_type": "code",
      "source": [],
      "metadata": {
        "id": "99MQtS6sQcqT"
      },
      "execution_count": null,
      "outputs": []
    }
  ]
}