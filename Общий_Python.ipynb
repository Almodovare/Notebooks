{
  "nbformat": 4,
  "nbformat_minor": 0,
  "metadata": {
    "colab": {
      "provenance": []
    },
    "kernelspec": {
      "name": "python3",
      "display_name": "Python 3"
    },
    "language_info": {
      "name": "python"
    }
  },
  "cells": [
    {
      "cell_type": "markdown",
      "source": [
        "# 1.Типы переменных"
      ],
      "metadata": {
        "id": "fIIsQnMnm_pO"
      }
    },
    {
      "cell_type": "code",
      "execution_count": null,
      "metadata": {
        "id": "SUnobXIcm2qe"
      },
      "outputs": [],
      "source": [
        "# Определение типа переменной происходит с помощью функции type()"
      ]
    },
    {
      "cell_type": "code",
      "source": [
        "a = 5\n",
        "type(a)"
      ],
      "metadata": {
        "colab": {
          "base_uri": "https://localhost:8080/"
        },
        "id": "wnzlWG4rnRUi",
        "outputId": "116732d2-0dd3-43d7-ad44-b847e45e7c82"
      },
      "execution_count": null,
      "outputs": [
        {
          "output_type": "execute_result",
          "data": {
            "text/plain": [
              "int"
            ]
          },
          "metadata": {},
          "execution_count": 3
        }
      ]
    },
    {
      "cell_type": "code",
      "source": [
        "b = 33.5\n",
        "type(b)"
      ],
      "metadata": {
        "colab": {
          "base_uri": "https://localhost:8080/"
        },
        "id": "_1wJKsSToP8y",
        "outputId": "536182a5-9769-4273-bec2-d24b9ffa0d74"
      },
      "execution_count": null,
      "outputs": [
        {
          "output_type": "execute_result",
          "data": {
            "text/plain": [
              "float"
            ]
          },
          "metadata": {},
          "execution_count": 5
        }
      ]
    },
    {
      "cell_type": "code",
      "source": [
        "c = 'dog'\n",
        "type(c)"
      ],
      "metadata": {
        "colab": {
          "base_uri": "https://localhost:8080/"
        },
        "id": "pwdjPtVLornD",
        "outputId": "cc5ae8de-2cb4-4640-f3e9-ea799ed0cf84"
      },
      "execution_count": null,
      "outputs": [
        {
          "output_type": "execute_result",
          "data": {
            "text/plain": [
              "str"
            ]
          },
          "metadata": {},
          "execution_count": 7
        }
      ]
    },
    {
      "cell_type": "code",
      "source": [
        "# int - целое число\n",
        "# float- число с плавающей точкой ( то есть с дробной частью)\n",
        "# string - строка\n",
        "# boolean - логический тип данных (True,False)"
      ],
      "metadata": {
        "id": "dQYJOwnIo4Kb"
      },
      "execution_count": null,
      "outputs": []
    },
    {
      "cell_type": "code",
      "source": [
        "2<5"
      ],
      "metadata": {
        "colab": {
          "base_uri": "https://localhost:8080/"
        },
        "id": "BS2c9cdEo21T",
        "outputId": "b4c656f2-d212-4f07-9042-dbd1ae921629"
      },
      "execution_count": null,
      "outputs": [
        {
          "output_type": "execute_result",
          "data": {
            "text/plain": [
              "True"
            ]
          },
          "metadata": {},
          "execution_count": 8
        }
      ]
    },
    {
      "cell_type": "code",
      "source": [
        "d = str(a)"
      ],
      "metadata": {
        "id": "OMZxwhfVpiKD"
      },
      "execution_count": null,
      "outputs": []
    },
    {
      "cell_type": "code",
      "source": [
        "type(d)"
      ],
      "metadata": {
        "colab": {
          "base_uri": "https://localhost:8080/"
        },
        "id": "FYI5hv97p4fb",
        "outputId": "c587d4b7-b6fb-4fe0-ddef-159de764f9c5"
      },
      "execution_count": null,
      "outputs": [
        {
          "output_type": "execute_result",
          "data": {
            "text/plain": [
              "str"
            ]
          },
          "metadata": {},
          "execution_count": 10
        }
      ]
    },
    {
      "cell_type": "code",
      "source": [
        "d"
      ],
      "metadata": {
        "colab": {
          "base_uri": "https://localhost:8080/",
          "height": 35
        },
        "id": "ZdK4p5IGqiYj",
        "outputId": "986c8c66-3193-46f1-d72c-02a7a65da867"
      },
      "execution_count": null,
      "outputs": [
        {
          "output_type": "execute_result",
          "data": {
            "text/plain": [
              "'5'"
            ],
            "application/vnd.google.colaboratory.intrinsic+json": {
              "type": "string"
            }
          },
          "metadata": {},
          "execution_count": 11
        }
      ]
    },
    {
      "cell_type": "code",
      "source": [
        "# Для того, чтобы преобразовать входящую информацию в нужный тип данных\n",
        "# записывается тип данных в виде функции, например: str(),int(),float()..\n",
        "# при этом в качестве аргумента указывается переменная,\n",
        "# над которой нужно произвести преобразование ( то есть, в скобочках)"
      ],
      "metadata": {
        "id": "vONMwCpfp6Ua"
      },
      "execution_count": null,
      "outputs": []
    },
    {
      "cell_type": "code",
      "source": [
        "e = int(d)"
      ],
      "metadata": {
        "id": "KdNAne26qnsS"
      },
      "execution_count": null,
      "outputs": []
    },
    {
      "cell_type": "code",
      "source": [
        "e"
      ],
      "metadata": {
        "colab": {
          "base_uri": "https://localhost:8080/"
        },
        "id": "iTJvyQI3qqMK",
        "outputId": "357672d7-bddc-4df9-98ae-866c24987699"
      },
      "execution_count": null,
      "outputs": [
        {
          "output_type": "execute_result",
          "data": {
            "text/plain": [
              "5"
            ]
          },
          "metadata": {},
          "execution_count": 13
        }
      ]
    },
    {
      "cell_type": "markdown",
      "source": [
        "#2. Списки"
      ],
      "metadata": {
        "id": "44b3sd0Lq3-a"
      }
    },
    {
      "cell_type": "code",
      "source": [
        "animals = ['dog', 'cat', 'horse', 'pig']"
      ],
      "metadata": {
        "id": "fHw64HFoqq4B"
      },
      "execution_count": null,
      "outputs": []
    },
    {
      "cell_type": "code",
      "source": [
        "animals_2 = ['dog', 'cat', 'horse', 'pig', 3, 5.6]"
      ],
      "metadata": {
        "id": "vDml0WBos0Rr"
      },
      "execution_count": null,
      "outputs": []
    },
    {
      "cell_type": "code",
      "source": [
        "print(a, animals_2)"
      ],
      "metadata": {
        "colab": {
          "base_uri": "https://localhost:8080/"
        },
        "id": "_juyWtPns8ur",
        "outputId": "66332041-cb04-4b61-cb8c-93a7d6ca8297"
      },
      "execution_count": null,
      "outputs": [
        {
          "output_type": "stream",
          "name": "stdout",
          "text": [
            "5 ['dog', 'cat', 'horse', 'pig', 3, 5.6]\n"
          ]
        }
      ]
    },
    {
      "cell_type": "code",
      "source": [
        "animals_2"
      ],
      "metadata": {
        "colab": {
          "base_uri": "https://localhost:8080/"
        },
        "id": "lvjMxGDNs_LZ",
        "outputId": "7a18d078-4625-4dfd-affe-2a8bc667b336"
      },
      "execution_count": null,
      "outputs": [
        {
          "output_type": "execute_result",
          "data": {
            "text/plain": [
              "['dog', 'cat', 'horse', 'pig', 3, 5.6]"
            ]
          },
          "metadata": {},
          "execution_count": 24
        }
      ]
    },
    {
      "cell_type": "code",
      "source": [
        "# Длина списка определяется с помощью функции len(), где\n",
        "# в качестве аргумента указывается список"
      ],
      "metadata": {
        "id": "PitfKTojtR_L"
      },
      "execution_count": null,
      "outputs": []
    },
    {
      "cell_type": "code",
      "source": [
        "len(animals)"
      ],
      "metadata": {
        "colab": {
          "base_uri": "https://localhost:8080/"
        },
        "id": "UOR5OEqdtiSC",
        "outputId": "b2553d7a-9764-4868-a1c2-cb27fd6e10fd"
      },
      "execution_count": null,
      "outputs": [
        {
          "output_type": "execute_result",
          "data": {
            "text/plain": [
              "4"
            ]
          },
          "metadata": {},
          "execution_count": 25
        }
      ]
    },
    {
      "cell_type": "code",
      "source": [
        "len(animals_2)"
      ],
      "metadata": {
        "colab": {
          "base_uri": "https://localhost:8080/"
        },
        "id": "zh_JkAgOtq1i",
        "outputId": "d322f789-2b38-400a-bab4-b830144e77fa"
      },
      "execution_count": null,
      "outputs": [
        {
          "output_type": "execute_result",
          "data": {
            "text/plain": [
              "6"
            ]
          },
          "metadata": {},
          "execution_count": 26
        }
      ]
    },
    {
      "cell_type": "code",
      "source": [
        "# Если необходимо обратиться к элементу списка, либо его (их) вывести, то\n",
        "# используют срезы(слайсы)\n",
        "# animals [2]- выводит третий по порядку элемент\n",
        "# animals [1:3] - выводит со второго по третий элементы\n",
        "# animals [:2] - выводит все элементы по второй\n",
        "# animals [1:] - выводит со второго элемента и до конца"
      ],
      "metadata": {
        "id": "1Q-rstfvtsaJ"
      },
      "execution_count": null,
      "outputs": []
    },
    {
      "cell_type": "code",
      "source": [
        "animals [2]"
      ],
      "metadata": {
        "colab": {
          "base_uri": "https://localhost:8080/",
          "height": 35
        },
        "id": "Wiv5agBsumLr",
        "outputId": "34631b06-aa03-43ff-b730-03b7056191a3"
      },
      "execution_count": null,
      "outputs": [
        {
          "output_type": "execute_result",
          "data": {
            "text/plain": [
              "'horse'"
            ],
            "application/vnd.google.colaboratory.intrinsic+json": {
              "type": "string"
            }
          },
          "metadata": {},
          "execution_count": 27
        }
      ]
    },
    {
      "cell_type": "code",
      "source": [
        "animals [1:3]"
      ],
      "metadata": {
        "colab": {
          "base_uri": "https://localhost:8080/"
        },
        "id": "dm7WyCwCvBch",
        "outputId": "f08b8c8d-f563-488b-d3ba-1c79be50b7a4"
      },
      "execution_count": null,
      "outputs": [
        {
          "output_type": "execute_result",
          "data": {
            "text/plain": [
              "['cat', 'horse']"
            ]
          },
          "metadata": {},
          "execution_count": 28
        }
      ]
    },
    {
      "cell_type": "code",
      "source": [
        "animals [:2]"
      ],
      "metadata": {
        "colab": {
          "base_uri": "https://localhost:8080/"
        },
        "id": "8mSFqkcSvCLy",
        "outputId": "516e6a56-dd57-483d-c0b8-8dd9dd5d33d7"
      },
      "execution_count": null,
      "outputs": [
        {
          "output_type": "execute_result",
          "data": {
            "text/plain": [
              "['dog', 'cat']"
            ]
          },
          "metadata": {},
          "execution_count": 29
        }
      ]
    },
    {
      "cell_type": "code",
      "source": [
        "animals [1:]"
      ],
      "metadata": {
        "colab": {
          "base_uri": "https://localhost:8080/"
        },
        "id": "P1oEQL7VvSPa",
        "outputId": "69fa7e16-9caa-4f95-a697-dab3934cef38"
      },
      "execution_count": null,
      "outputs": [
        {
          "output_type": "execute_result",
          "data": {
            "text/plain": [
              "['cat', 'horse', 'pig']"
            ]
          },
          "metadata": {},
          "execution_count": 30
        }
      ]
    },
    {
      "cell_type": "code",
      "source": [
        "# Существуют списки списков"
      ],
      "metadata": {
        "id": "PNm3vdlKvhT3"
      },
      "execution_count": null,
      "outputs": []
    },
    {
      "cell_type": "code",
      "source": [
        "lists = [[2,5,8],\n",
        "         [3,5,7],\n",
        "         [6,7,9]]"
      ],
      "metadata": {
        "id": "m9SPVxSLvkni"
      },
      "execution_count": null,
      "outputs": []
    },
    {
      "cell_type": "code",
      "source": [
        "len(lists)"
      ],
      "metadata": {
        "colab": {
          "base_uri": "https://localhost:8080/"
        },
        "id": "NlDigS_Ev7IK",
        "outputId": "eb7e02d2-ebe3-4c10-8d03-d557a7761a73"
      },
      "execution_count": null,
      "outputs": [
        {
          "output_type": "execute_result",
          "data": {
            "text/plain": [
              "3"
            ]
          },
          "metadata": {},
          "execution_count": 32
        }
      ]
    },
    {
      "cell_type": "code",
      "source": [
        "lists[0][1]"
      ],
      "metadata": {
        "colab": {
          "base_uri": "https://localhost:8080/"
        },
        "id": "ygoVqXafv8jB",
        "outputId": "9870616f-66fa-491e-9cf8-48dd76db77c5"
      },
      "execution_count": null,
      "outputs": [
        {
          "output_type": "execute_result",
          "data": {
            "text/plain": [
              "5"
            ]
          },
          "metadata": {},
          "execution_count": 35
        }
      ]
    },
    {
      "cell_type": "markdown",
      "source": [
        "# 3. Циклы"
      ],
      "metadata": {
        "id": "v5zako67wZeV"
      }
    },
    {
      "cell_type": "code",
      "source": [
        "#Циклы позволяют повторять операцию(ии) несколько раз в зависимости от условия"
      ],
      "metadata": {
        "id": "8MR09fl6wTh8"
      },
      "execution_count": null,
      "outputs": []
    },
    {
      "cell_type": "code",
      "source": [
        "# Цикл while - цикл с ограничением, то есть пока выполняется некоторое условие\n",
        "# while условие:\n",
        "#       команда"
      ],
      "metadata": {
        "id": "cEcNbUtmwsTq"
      },
      "execution_count": null,
      "outputs": []
    },
    {
      "cell_type": "code",
      "source": [
        "a = 10\n",
        "while a>-4:\n",
        "  print(a)\n",
        "  a -= 2"
      ],
      "metadata": {
        "colab": {
          "base_uri": "https://localhost:8080/"
        },
        "id": "bmhwShqixVQE",
        "outputId": "1cad52b0-c93e-4cf9-9eef-e20144ced70a"
      },
      "execution_count": null,
      "outputs": [
        {
          "output_type": "stream",
          "name": "stdout",
          "text": [
            "10\n",
            "8\n",
            "6\n",
            "4\n",
            "2\n",
            "0\n",
            "-2\n"
          ]
        }
      ]
    },
    {
      "cell_type": "code",
      "source": [
        "# Цикл for проходит последовательно по массиву и выполняет некоторые команды\n",
        "# Однако, в нем нет условия.\n",
        "# for последовательность:\n",
        "#       команда"
      ],
      "metadata": {
        "id": "YvQ3hVLiy08R"
      },
      "execution_count": null,
      "outputs": []
    },
    {
      "cell_type": "code",
      "source": [
        "for _ in animals:\n",
        "  print(_)"
      ],
      "metadata": {
        "colab": {
          "base_uri": "https://localhost:8080/"
        },
        "id": "iQ9CBnSmzNmx",
        "outputId": "2ba863ab-6011-4e44-f711-bf3740a11a23"
      },
      "execution_count": null,
      "outputs": [
        {
          "output_type": "stream",
          "name": "stdout",
          "text": [
            "dog\n",
            "cat\n",
            "horse\n",
            "pig\n"
          ]
        }
      ]
    },
    {
      "cell_type": "code",
      "source": [
        "# как правило, знак нижнего подчеркивания используют тогда,\n",
        "# когда сам элемент последовательности больше не фигурирует в теле цикла"
      ],
      "metadata": {
        "id": "IKCtdSzHz1si"
      },
      "execution_count": null,
      "outputs": []
    },
    {
      "cell_type": "code",
      "source": [
        "for i in 'dog':\n",
        "  print(i)"
      ],
      "metadata": {
        "colab": {
          "base_uri": "https://localhost:8080/"
        },
        "id": "aHE9ZLaKzh6z",
        "outputId": "57e9429b-e877-4cdb-de72-db6eac9e5056"
      },
      "execution_count": null,
      "outputs": [
        {
          "output_type": "stream",
          "name": "stdout",
          "text": [
            "d\n",
            "o\n",
            "g\n"
          ]
        }
      ]
    },
    {
      "cell_type": "code",
      "source": [
        "for i in 'dog':\n",
        "  print(i*3)"
      ],
      "metadata": {
        "colab": {
          "base_uri": "https://localhost:8080/"
        },
        "id": "fVH98HbM2Ufi",
        "outputId": "5bd46942-20e0-4455-a3bb-fa449e6c4fc0"
      },
      "execution_count": null,
      "outputs": [
        {
          "output_type": "stream",
          "name": "stdout",
          "text": [
            "ddd\n",
            "ooo\n",
            "ggg\n"
          ]
        }
      ]
    },
    {
      "cell_type": "code",
      "source": [
        "# Часто в циклах используются последовательности,\n",
        "# которые задаются с помощью функции range\n",
        "# range(10) - указан аргумент конца последовательности (не включительно)\n",
        "# range(1,10)- указаны аргументы начала и конца последовательности\n",
        "# range(1,10,2)- указаны аргументы начала, конца последовательности и шаг"
      ],
      "metadata": {
        "id": "V1PwJtwB0wGS"
      },
      "execution_count": null,
      "outputs": []
    },
    {
      "cell_type": "code",
      "source": [
        "for i in range(1,10):\n",
        "  print(i)"
      ],
      "metadata": {
        "colab": {
          "base_uri": "https://localhost:8080/"
        },
        "id": "JoBd2cr11I_c",
        "outputId": "e8df9ab9-e676-499c-f629-2ba66fa5a7fa"
      },
      "execution_count": null,
      "outputs": [
        {
          "output_type": "stream",
          "name": "stdout",
          "text": [
            "1\n",
            "2\n",
            "3\n",
            "4\n",
            "5\n",
            "6\n",
            "7\n",
            "8\n",
            "9\n"
          ]
        }
      ]
    },
    {
      "cell_type": "code",
      "source": [
        "for i in range(10,30,2):\n",
        "  print(i*2)"
      ],
      "metadata": {
        "colab": {
          "base_uri": "https://localhost:8080/"
        },
        "id": "OJ8rZgH21j9J",
        "outputId": "5894e9f5-19ce-40a5-8d10-dbc8911d548c"
      },
      "execution_count": null,
      "outputs": [
        {
          "output_type": "stream",
          "name": "stdout",
          "text": [
            "20\n",
            "24\n",
            "28\n",
            "32\n",
            "36\n",
            "40\n",
            "44\n",
            "48\n",
            "52\n",
            "56\n"
          ]
        }
      ]
    },
    {
      "cell_type": "code",
      "source": [
        "for i in range(10,30,2):\n",
        "  a = i*2"
      ],
      "metadata": {
        "id": "3C6TmAsR2HFL"
      },
      "execution_count": null,
      "outputs": []
    },
    {
      "cell_type": "code",
      "source": [
        "a"
      ],
      "metadata": {
        "colab": {
          "base_uri": "https://localhost:8080/"
        },
        "id": "ek6XrUHW2MNh",
        "outputId": "cc8cd7f0-7fca-47e7-b793-9293f9837105"
      },
      "execution_count": null,
      "outputs": [
        {
          "output_type": "execute_result",
          "data": {
            "text/plain": [
              "56"
            ]
          },
          "metadata": {},
          "execution_count": 52
        }
      ]
    },
    {
      "cell_type": "markdown",
      "source": [
        "# 4. F-строка"
      ],
      "metadata": {
        "id": "xlJz6ys12bkD"
      }
    },
    {
      "cell_type": "code",
      "source": [
        "# Позволяет выводить в вывод данные и комментарии к ним"
      ],
      "metadata": {
        "id": "Mo7D7kyM2mbS"
      },
      "execution_count": null,
      "outputs": []
    },
    {
      "cell_type": "code",
      "source": [
        "print(f'я на последней паре',5)"
      ],
      "metadata": {
        "colab": {
          "base_uri": "https://localhost:8080/"
        },
        "id": "QTx4B7Xd3NLK",
        "outputId": "382d346b-c3b5-4ca1-9e72-95b2ba0e407d"
      },
      "execution_count": null,
      "outputs": [
        {
          "output_type": "stream",
          "name": "stdout",
          "text": [
            "я на последней паре 5\n"
          ]
        }
      ]
    },
    {
      "cell_type": "code",
      "source": [
        "print(f'мое любимое животное {animals[2]} всегда')"
      ],
      "metadata": {
        "colab": {
          "base_uri": "https://localhost:8080/"
        },
        "id": "PdI1dmOf27Da",
        "outputId": "af06b73e-26c8-4e73-adc4-38a59529a431"
      },
      "execution_count": null,
      "outputs": [
        {
          "output_type": "stream",
          "name": "stdout",
          "text": [
            "мое любимое животное horse всегда\n"
          ]
        }
      ]
    },
    {
      "cell_type": "code",
      "source": [
        "# Существует функция ввода пользователя input(),\n",
        "# которая принимает значения, вводимые пользователями"
      ],
      "metadata": {
        "id": "v5p4aQZt2uT7"
      },
      "execution_count": null,
      "outputs": []
    },
    {
      "cell_type": "code",
      "source": [
        "age = input()\n",
        "print(f'ваш возраст составляет {age}')"
      ],
      "metadata": {
        "colab": {
          "base_uri": "https://localhost:8080/"
        },
        "id": "TQTLt9jK3yCK",
        "outputId": "cbcce8e6-9580-40f9-bb9e-e792332e1126"
      },
      "execution_count": null,
      "outputs": [
        {
          "output_type": "stream",
          "name": "stdout",
          "text": [
            "70\n",
            "ваш возраст составляет 70\n"
          ]
        }
      ]
    },
    {
      "cell_type": "code",
      "source": [
        "# ДЗ: написать код для вычисление площади прямоугольника с задаваемыми пользователем\n",
        "# сторонами"
      ],
      "metadata": {
        "id": "OT4ztsB949sG"
      },
      "execution_count": null,
      "outputs": []
    }
  ]
}