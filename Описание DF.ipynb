{
  "nbformat": 4,
  "nbformat_minor": 0,
  "metadata": {
    "colab": {
      "provenance": []
    },
    "kernelspec": {
      "name": "python3",
      "display_name": "Python 3"
    },
    "language_info": {
      "name": "python"
    }
  },
  "cells": [
    {
      "cell_type": "code",
      "source": [
        "!git clone https://github.com/Almodovare/Training_Data # клонируем репозиторий с Git Hub"
      ],
      "metadata": {
        "id": "bG_MDSrSO3vs"
      },
      "execution_count": null,
      "outputs": []
    },
    {
      "cell_type": "code",
      "source": [
        "import pandas as pd # Установка библиотек"
      ],
      "metadata": {
        "id": "9P4fcpB2OpJg"
      },
      "execution_count": null,
      "outputs": []
    },
    {
      "cell_type": "code",
      "source": [
        "df = pd.read_csv('/content/Training_Data/mtcars.csv') # загрузка датасета"
      ],
      "metadata": {
        "id": "6SGTXPaLOs0t"
      },
      "execution_count": null,
      "outputs": []
    },
    {
      "cell_type": "markdown",
      "source": [
        "## Описание набора данных"
      ],
      "metadata": {
        "id": "CWK5Y8-DPNB9"
      }
    },
    {
      "cell_type": "code",
      "source": [
        "df.info() # инорфмация о датафрейме"
      ],
      "metadata": {
        "id": "O52uIky3PPek"
      },
      "execution_count": null,
      "outputs": []
    },
    {
      "cell_type": "code",
      "source": [
        "df.describe() # расчет всех описательных статистик"
      ],
      "metadata": {
        "id": "CBENW22vPMck"
      },
      "execution_count": null,
      "outputs": []
    },
    {
      "cell_type": "code",
      "source": [
        "df['Cylinders'].mean() # расчет среднего значения"
      ],
      "metadata": {
        "id": "m3ZHinSFO3TV"
      },
      "execution_count": null,
      "outputs": []
    },
    {
      "cell_type": "code",
      "source": [
        "df['Cylinders'].std() # расчет стандартного отклонения"
      ],
      "metadata": {
        "id": "cmcz74g6PaV1"
      },
      "execution_count": null,
      "outputs": []
    },
    {
      "cell_type": "code",
      "source": [
        "df['Cylinders'].var() # расчет дисперсии"
      ],
      "metadata": {
        "id": "6NBvP660Qgrc"
      },
      "execution_count": null,
      "outputs": []
    },
    {
      "cell_type": "code",
      "source": [
        "df['Cylinders'].median() # расчет медианы"
      ],
      "metadata": {
        "id": "3weT-w9sQVmD"
      },
      "execution_count": null,
      "outputs": []
    },
    {
      "cell_type": "code",
      "source": [
        "df['Cylinders'].max() # расчет максимального значения"
      ],
      "metadata": {
        "id": "OjSmyDd1PcpN"
      },
      "execution_count": null,
      "outputs": []
    },
    {
      "cell_type": "code",
      "source": [
        "df['Cylinders'].min() # расчет минимального значения"
      ],
      "metadata": {
        "id": "mSQ_PSWTPe0c"
      },
      "execution_count": null,
      "outputs": []
    },
    {
      "cell_type": "code",
      "source": [
        "df['Cylinders'].count() # подсчет количества наблюдений"
      ],
      "metadata": {
        "id": "RMuTXvuOPhsB"
      },
      "execution_count": null,
      "outputs": []
    },
    {
      "cell_type": "code",
      "source": [
        "df['Cylinders'].quantile(0.25) # расчет первого квартиля"
      ],
      "metadata": {
        "id": "nXqapLiWPqfw"
      },
      "execution_count": null,
      "outputs": []
    },
    {
      "cell_type": "code",
      "source": [
        "df['Cylinders'].quantile(0.75) # расчет третьего квартиля"
      ],
      "metadata": {
        "id": "8oCBAsWgQCVU"
      },
      "execution_count": null,
      "outputs": []
    },
    {
      "cell_type": "code",
      "source": [
        "df['Cylinders'].quantile(0.88) # расчет 88 перцентиля"
      ],
      "metadata": {
        "id": "21LBHZrxWgRi"
      },
      "execution_count": null,
      "outputs": []
    },
    {
      "cell_type": "code",
      "source": [
        "df['Cylinders'].sum() # сумма значений у всех наблюдений"
      ],
      "metadata": {
        "id": "QSTf3hl7QN5D"
      },
      "execution_count": null,
      "outputs": []
    },
    {
      "cell_type": "code",
      "source": [
        "df['Displacement'].cumsum()# кумулятивная сумма значений у всех наблюдений"
      ],
      "metadata": {
        "id": "05ilbyFyY5br"
      },
      "execution_count": null,
      "outputs": []
    },
    {
      "cell_type": "markdown",
      "source": [
        "### Уникальные значения"
      ],
      "metadata": {
        "id": "F0zBAJR7Q8Uj"
      }
    },
    {
      "cell_type": "code",
      "source": [
        "df['Cylinders'].unique() # вывод всех уникальных значений переменной"
      ],
      "metadata": {
        "id": "I5fcKgFvRD9E"
      },
      "execution_count": null,
      "outputs": []
    },
    {
      "cell_type": "code",
      "source": [
        "df['Cylinders'].nunique() # вывод количества уникальных значений переменной"
      ],
      "metadata": {
        "id": "QbcX7WfnRIoL"
      },
      "execution_count": null,
      "outputs": []
    },
    {
      "cell_type": "code",
      "source": [
        "df['Cylinders'].value_counts() # подсчет количества значений каждой градации"
      ],
      "metadata": {
        "id": "9bA1pvOTROCb"
      },
      "execution_count": null,
      "outputs": []
    },
    {
      "cell_type": "markdown",
      "source": [
        "## Пропущенные значения"
      ],
      "metadata": {
        "id": "LrO8OSLEVLfc"
      }
    },
    {
      "cell_type": "code",
      "source": [
        "df.isna() # идентификация пропусков"
      ],
      "metadata": {
        "id": "XsP7tDE0VO7j"
      },
      "execution_count": null,
      "outputs": []
    },
    {
      "cell_type": "code",
      "source": [
        "df.isna().sum() # суммарное количество пропусков"
      ],
      "metadata": {
        "id": "v7jLqyrOVTlg"
      },
      "execution_count": null,
      "outputs": []
    },
    {
      "cell_type": "markdown",
      "source": [
        "### Отдельные операции с датафреймами"
      ],
      "metadata": {
        "id": "rMfFinpwRl1T"
      }
    },
    {
      "cell_type": "code",
      "source": [
        "# Сортировка по ИНДЕКСУ выполняется с помощью функции .sort_index()"
      ],
      "metadata": {
        "id": "qseFtFOfRpov"
      },
      "execution_count": null,
      "outputs": []
    },
    {
      "cell_type": "code",
      "source": [
        "df['Cylinders'].value_counts().sort_index()"
      ],
      "metadata": {
        "id": "Oolu1PzfSnAF"
      },
      "execution_count": null,
      "outputs": []
    },
    {
      "cell_type": "code",
      "source": [
        "# Сортировка по ЗНАЧЕНИЮ ПЕРЕМЕННОЙ выполняется с помощью функции .sort_values()"
      ],
      "metadata": {
        "id": "_OF18DBDSrq9"
      },
      "execution_count": null,
      "outputs": []
    },
    {
      "cell_type": "code",
      "source": [
        "df['Cylinders'].value_counts().sort_values()"
      ],
      "metadata": {
        "id": "1F1qAdHBSyxd"
      },
      "execution_count": null,
      "outputs": []
    },
    {
      "cell_type": "code",
      "source": [
        "# Транспонирование набора данных с помощью атрибута .T"
      ],
      "metadata": {
        "id": "Qazmn6LrRkpT"
      },
      "execution_count": null,
      "outputs": []
    },
    {
      "cell_type": "code",
      "source": [
        "df.describe().T"
      ],
      "metadata": {
        "id": "hBqN7nrYTBzF"
      },
      "execution_count": null,
      "outputs": []
    },
    {
      "cell_type": "markdown",
      "source": [
        "## Построение простых графиков"
      ],
      "metadata": {
        "id": "fSKJKoovQ4gj"
      }
    },
    {
      "cell_type": "code",
      "source": [
        "df['Horsepower'].hist() # построение гистограммы"
      ],
      "metadata": {
        "id": "O3nv5LFgQ4Or"
      },
      "execution_count": null,
      "outputs": []
    },
    {
      "cell_type": "code",
      "source": [
        "df['Horsepower'].hist( bins = 15) # построение гистограммы с указанием количества столбцов - бинов"
      ],
      "metadata": {
        "id": "gbuAc2QXXBxs"
      },
      "execution_count": null,
      "outputs": []
    },
    {
      "cell_type": "code",
      "source": [
        "df['Horsepower'].plot(kind = 'hist') # построение гистограммы с помощью .plot() и аргумента, указываеющего на тип графика"
      ],
      "metadata": {
        "id": "H4UdLUF-XS71"
      },
      "execution_count": null,
      "outputs": []
    },
    {
      "cell_type": "code",
      "source": [
        "# area для графиков с накоплением;\n",
        "# bar для вертикальной гистограммы;\n",
        "# barh для горизонтальной гистограммы;\n",
        "# box для графиков с боксами;\n",
        "# hexbin для шестнадцатеричных графиков;\n",
        "# hist для гистограмм;\n",
        "# kde для графика оценки плотности ядра;\n",
        "# density является альтернативным названием для kde;\n",
        "# line для линейных графиков;\n",
        "# pie для круговых графиков;\n",
        "# scatter для графиков рассеяния."
      ],
      "metadata": {
        "id": "Glx2jgQ2X9hU"
      },
      "execution_count": null,
      "outputs": []
    },
    {
      "cell_type": "code",
      "source": [
        "df['Horsepower'].plot(kind = 'box')"
      ],
      "metadata": {
        "id": "uKQm1IoOYHvC"
      },
      "execution_count": null,
      "outputs": []
    },
    {
      "cell_type": "code",
      "source": [
        "# Все указанные типы графиков можно использовать как самостоятельные методы объекта DataFrame\n",
        "# .area()\n",
        "# .bar()\n",
        "# .barh()\n",
        "# .box()\n",
        "# .hexbin()\n",
        "# .hist()\n",
        "# .kde()\n",
        "# .density()\n",
        "# .line()\n",
        "# .pie()\n",
        "# .scatter()"
      ],
      "metadata": {
        "id": "Ov51jK4zYpP8"
      },
      "execution_count": null,
      "outputs": []
    },
    {
      "cell_type": "code",
      "source": [
        "df['Horsepower'].plot(kind = 'hist', orientation = 'horizontal',cumulative=True)  # указана дополнительно оиентация графика и кумулятивное значение"
      ],
      "metadata": {
        "id": "PmC2NcA2ZTjU"
      },
      "execution_count": null,
      "outputs": []
    },
    {
      "cell_type": "code",
      "source": [
        "df['Horsepower'].plot(kind = 'hist', color=\"k\", alpha=0.6, bins=25) # альфа отвечает за прозрачность, color - за цвет"
      ],
      "metadata": {
        "id": "OXDBSKHvZuJ0"
      },
      "execution_count": null,
      "outputs": []
    },
    {
      "cell_type": "code",
      "source": [
        "# Построим гистограммы для всего массива сразу"
      ],
      "metadata": {
        "id": "Xtyt128taVR8"
      },
      "execution_count": null,
      "outputs": []
    },
    {
      "cell_type": "code",
      "source": [
        "df.boxplot()"
      ],
      "metadata": {
        "id": "Ve70T6VaaR68"
      },
      "execution_count": null,
      "outputs": []
    },
    {
      "cell_type": "code",
      "source": [
        "df[['MPG','Horsepower']].plot(kind = 'hist', subplots = True, title = 'Гистограммы', xlabel = 'значение')"
      ],
      "metadata": {
        "id": "Day3b5dUcXFx"
      },
      "execution_count": null,
      "outputs": []
    }
  ]
}
